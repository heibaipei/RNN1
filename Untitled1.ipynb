{
 "cells": [
  {
   "cell_type": "code",
   "execution_count": 10,
   "metadata": {
    "collapsed": true
   },
   "outputs": [],
   "source": [
    "import sys"
   ]
  },
  {
   "cell_type": "code",
   "execution_count": 11,
   "metadata": {},
   "outputs": [
    {
     "data": {
      "text/plain": [
       "'3.6.2 |Anaconda custom (64-bit)| (default, Sep 19 2017, 08:03:39) [MSC v.1900 64 bit (AMD64)]'"
      ]
     },
     "execution_count": 11,
     "metadata": {},
     "output_type": "execute_result"
    }
   ],
   "source": [
    "sys.version"
   ]
  },
  {
   "cell_type": "code",
   "execution_count": 12,
   "metadata": {
    "collapsed": true
   },
   "outputs": [],
   "source": [
    "import tensorflow as tf\n",
    "import pandas as pd\n",
    "import numpy as np\n",
    "import os\n",
    "import matplotlib\n",
    "import matplotlib.pyplot as plt\n",
    "import random\n"
   ]
  },
  {
   "cell_type": "code",
   "execution_count": 13,
   "metadata": {},
   "outputs": [
    {
     "data": {
      "text/plain": [
       "'1.4.0'"
      ]
     },
     "execution_count": 13,
     "metadata": {},
     "output_type": "execute_result"
    }
   ],
   "source": [
    "tf.__version__"
   ]
  },
  {
   "cell_type": "code",
   "execution_count": 14,
   "metadata": {},
   "outputs": [
    {
     "data": {
      "image/png": "[encoded data removed]",
      "text/plain": [
       "<matplotlib.figure.Figure at 0x20f32705d30>"
      ]
     },
     "metadata": {},
     "output_type": "display_data"
    },
    {
     "data": {
      "text/plain": [
       "2000-01-31     9.010722\n",
       "2000-02-29    11.153390\n",
       "2000-03-31    17.763427\n",
       "2000-04-30     8.121856\n",
       "2000-05-31     7.389458\n",
       "2000-06-30     1.128507\n",
       "2000-07-31    -4.343514\n",
       "2000-08-31    -3.157475\n",
       "2000-09-30   -11.065356\n",
       "2000-10-31   -19.281842\n",
       "Freq: M, dtype: float64"
      ]
     },
     "execution_count": 14,
     "metadata": {},
     "output_type": "execute_result"
    }
   ],
   "source": [
    "random.seed(111)\n",
    "rng = pd.date_range(start = '2000', periods = 209, freq = 'M')#一共有210个数据\n",
    "ts = pd.Series(np.random.uniform(-10,10,size = len(rng)),rng).cumsum()\n",
    "ts.plot(c='b')\n",
    "plt.show()\n",
    "ts.head(10)"
   ]
  },
  {
   "cell_type": "code",
   "execution_count": 15,
   "metadata": {},
   "outputs": [
    {
     "name": "stdout",
     "output_type": "stream",
     "text": [
      "(10, 20, 1)\n",
      "[[[  9.01072192]\n",
      "  [ 11.15338987]\n",
      "  [ 17.76342723]\n",
      "  [  8.12185579]\n",
      "  [  7.38945791]\n",
      "  [  1.12850676]\n",
      "  [ -4.34351436]\n",
      "  [ -3.15747518]\n",
      "  [-11.06535584]\n",
      "  [-19.28184208]\n",
      "  [-18.55427322]\n",
      "  [-14.7390152 ]\n",
      "  [ -8.86406835]\n",
      "  [ -3.81550476]\n",
      "  [  6.17031373]\n",
      "  [  7.24281121]\n",
      "  [ 10.11802392]\n",
      "  [  2.91853531]\n",
      "  [  2.30730982]\n",
      "  [ 10.00575781]]\n",
      "\n",
      " [[  4.26080251]\n",
      "  [  5.91721942]\n",
      "  [ 13.24322826]\n",
      "  [ 16.11634714]\n",
      "  [ 26.09767458]\n",
      "  [ 34.96093212]\n",
      "  [ 37.73320515]\n",
      "  [ 37.72165644]\n",
      "  [ 34.81968766]\n",
      "  [ 34.36921856]\n",
      "  [ 27.02856351]\n",
      "  [ 36.04419944]\n",
      "  [ 28.87817507]\n",
      "  [ 28.78548299]\n",
      "  [ 22.28706117]\n",
      "  [ 12.33106391]\n",
      "  [  2.76410949]\n",
      "  [ 10.71508311]\n",
      "  [ 15.65478282]\n",
      "  [ 25.54234165]]]\n",
      "(10, 20, 1)\n",
      "[[[ 11.15338987]\n",
      "  [ 17.76342723]\n",
      "  [  8.12185579]\n",
      "  [  7.38945791]\n",
      "  [  1.12850676]\n",
      "  [ -4.34351436]\n",
      "  [ -3.15747518]\n",
      "  [-11.06535584]\n",
      "  [-19.28184208]\n",
      "  [-18.55427322]\n",
      "  [-14.7390152 ]\n",
      "  [ -8.86406835]\n",
      "  [ -3.81550476]\n",
      "  [  6.17031373]\n",
      "  [  7.24281121]\n",
      "  [ 10.11802392]\n",
      "  [  2.91853531]\n",
      "  [  2.30730982]\n",
      "  [ 10.00575781]\n",
      "  [  4.26080251]]]\n"
     ]
    }
   ],
   "source": [
    "TS = np.array(ts)\n",
    "num_periods = 20\n",
    "f_horizon = 1\n",
    "\n",
    "x_data = TS[:(len(TS)-(len(TS)%num_periods))]\n",
    "x_batches = x_data.reshape(-1,20,1)\n",
    "\n",
    "y_data = TS[1:(len(TS)-(len(TS)%num_periods))+ f_horizon]\n",
    "y_batches = y_data.reshape(-1,20,1)\n",
    "\n",
    "print(x_batches.shape)\n",
    "print(x_batches[0:2])\n",
    "print(y_batches.shape)\n",
    "print(y_batches[0:1])\n"
   ]
  },
  {
   "cell_type": "code",
   "execution_count": 16,
   "metadata": {},
   "outputs": [
    {
     "name": "stdout",
     "output_type": "stream",
     "text": [
      "(1, 20, 1)\n",
      "(1, 20, 1)\n",
      "[[[ -2.20935366]\n",
      "  [-10.52342383]\n",
      "  [ -3.65383   ]\n",
      "  [-13.53803109]\n",
      "  [ -8.91362549]\n",
      "  [ -9.07614711]\n",
      "  [ -2.41836647]\n",
      "  [  3.8823054 ]\n",
      "  [ -1.1555371 ]\n",
      "  [ -2.68258574]\n",
      "  [-12.13279444]\n",
      "  [-15.70841401]\n",
      "  [-14.52448335]\n",
      "  [-19.52019241]\n",
      "  [-25.7887045 ]\n",
      "  [-18.96443158]\n",
      "  [-21.51244103]\n",
      "  [-18.11201124]\n",
      "  [-16.83330057]\n",
      "  [-18.13271421]]]\n"
     ]
    }
   ],
   "source": [
    "def test_data(series, forecast, num_periods):\n",
    "    test_x_setup = TS[-(num_periods +forecast):]\n",
    "    test_x = test_x_setup[:num_periods].reshape(-1,20,1)\n",
    "    test_y = TS[-(num_periods):].reshape(-1,20,1)\n",
    "    return test_x, test_y\n",
    "#num_periods = 20\n",
    "x_test,y_test = test_data(TS, f_horizon,num_periods)\n",
    "print(x_test.shape)\n",
    "print(y_test.shape)\n",
    "print(y_test)"
   ]
  },
  {
   "cell_type": "raw",
   "metadata": {},
   "source": []
  },
  {
   "cell_type": "code",
   "execution_count": 34,
   "metadata": {},
   "outputs": [
    {
     "name": "stdout",
     "output_type": "stream",
     "text": [
      "nihao \n",
      "(?, 20, 1)\n"
     ]
    }
   ],
   "source": [
    "tf.reset_default_graph()\n",
    "inputs = 1\n",
    "hidden = 100\n",
    "output = 1\n",
    "\n",
    "x = tf.placeholder(tf.float32,[None,num_periods,inputs])\n",
    "y = tf.placeholder(tf.float32,[None,num_periods,output])\n",
    "print(\"nihao \")\n",
    "\n",
    "\n",
    "batch_size = x.shape[0]\n",
    "rnn_cell = tf.contrib.rnn.BasicRNNCell(num_units=hidden, activation = tf.nn.relu)\n",
    "#initial_state = rnn_cell.zero_state(batch_size, dtype=tf.float32)\n",
    "rnn_output, states = tf.nn.dynamic_rnn(rnn_cell, x, dtype=tf.float32)\n",
    "\n",
    "learning_rate = 0.0001\n",
    "\n",
    "stacked_rnn_output = tf.reshape(rnn_output,[-1, hidden])\n",
    "stacked_outputs = tf.layers.dense(stacked_rnn_output, output)\n",
    "outputs = tf.reshape(stacked_outputs,[-1,num_periods,output])\n",
    "print(outputs.shape)\n",
    "loss = tf.reduce_sum(tf.square(outputs-y))\n",
    "optimizer = tf.train.AdamOptimizer(learning_rate = learning_rate)\n",
    "training_op = optimizer.minimize(loss)\n",
    "\n",
    "\n",
    "init = tf.global_variables_initializer()\n",
    "\n"
   ]
  },
  {
   "cell_type": "code",
   "execution_count": 35,
   "metadata": {},
   "outputs": [
    {
     "name": "stdout",
     "output_type": "stream",
     "text": [
      "0 \tMSE 264530.0\n",
      "100 \tMSE 38095.4\n",
      "200 \tMSE 23342.4\n",
      "300 \tMSE 19491.1\n",
      "400 \tMSE 16920.8\n",
      "500 \tMSE 15128.9\n",
      "600 \tMSE 13652.9\n",
      "700 \tMSE 12248.9\n",
      "800 \tMSE 10926.2\n",
      "900 \tMSE 9719.74\n",
      "(1, 20, 1)\n",
      "[[[  1.22376275]\n",
      "  [  0.36187109]\n",
      "  [ -5.64952803]\n",
      "  [ -5.68508101]\n",
      "  [ -8.98874092]\n",
      "  [ -8.95837784]\n",
      "  [ -4.25800419]\n",
      "  [  1.14791465]\n",
      "  [ 12.16532898]\n",
      "  [  9.54391861]\n",
      "  [  1.37475371]\n",
      "  [-12.66944981]\n",
      "  [-24.44174004]\n",
      "  [-23.19521523]\n",
      "  [-26.95792007]\n",
      "  [-34.89176559]\n",
      "  [-25.59042549]\n",
      "  [-24.84009552]\n",
      "  [-34.61167145]\n",
      "  [-38.48255157]]]\n"
     ]
    }
   ],
   "source": [
    "epochs = 1000\n",
    "\n",
    "with tf.Session() as sess:\n",
    "    init.run()\n",
    "    for ep in range(epochs):\n",
    "        sess.run(training_op, feed_dict = {x: x_batches, y: y_batches})\n",
    "        if ep % 100 ==0:\n",
    "            mse = loss.eval(feed_dict = {x:x_batches, y: y_batches})\n",
    "            print(ep,\"\\tMSE\",mse)\n",
    "    print(x_test.shape)        \n",
    "    y_pred = sess.run(outputs, feed_dict = {x:x_test})\n",
    "    print(y_pred)"
   ]
  },
  {
   "cell_type": "code",
   "execution_count": 39,
   "metadata": {},
   "outputs": [
    {
     "data": {
      "image/png": "[encoded data removed]",
      "text/plain": [
       "<matplotlib.figure.Figure at 0x20f361ba0b8>"
      ]
     },
     "metadata": {},
     "output_type": "display_data"
    }
   ],
   "source": [
    "plt.plot(pd.Series(np.ravel(y_test)),\"bo\",markersize = 10)\n",
    "\n",
    "plt.plot(pd.Series(np.ravel(y_pred)),\"r\",markersize = 10)\n",
    "\n",
    "plt.xlabel(\"Time\")\n",
    "plt.show()"
   ]
  },
  {
   "cell_type": "code",
   "execution_count": null,
   "metadata": {
    "collapsed": true
   },
   "outputs": [],
   "source": []
  }
 ],
 "metadata": {
  "kernelspec": {
   "display_name": "Python 3",
   "language": "python",
   "name": "python3"
  },
  "language_info": {
   "codemirror_mode": {
    "name": "ipython",
    "version": 3
   },
   "file_extension": ".py",
   "mimetype": "text/x-python",
   "name": "python",
   "nbconvert_exporter": "python",
   "pygments_lexer": "ipython3",
   "version": "3.6.2"
  }
 },
 "nbformat": 4,
 "nbformat_minor": 2
}
